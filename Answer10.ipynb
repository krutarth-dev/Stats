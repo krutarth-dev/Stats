{
  "nbformat": 4,
  "nbformat_minor": 0,
  "metadata": {
    "colab": {
      "provenance": [],
      "authorship_tag": "ABX9TyPG6dksd38B3GgPGU/uMGLa",
      "include_colab_link": true
    },
    "kernelspec": {
      "name": "python3",
      "display_name": "Python 3"
    },
    "language_info": {
      "name": "python"
    }
  },
  "cells": [
    {
      "cell_type": "markdown",
      "metadata": {
        "id": "view-in-github",
        "colab_type": "text"
      },
      "source": [
        "<a href=\"https://colab.research.google.com/github/krutarth-dev/Stats/blob/main/Answer10.ipynb\" target=\"_parent\"><img src=\"https://colab.research.google.com/assets/colab-badge.svg\" alt=\"Open In Colab\"/></a>"
      ]
    },
    {
      "cell_type": "code",
      "execution_count": 1,
      "metadata": {
        "colab": {
          "base_uri": "https://localhost:8080/"
        },
        "id": "PCfQBuVZzY5J",
        "outputId": "e76f0427-02bc-494d-d54d-7ffa69639ec7"
      },
      "outputs": [
        {
          "output_type": "stream",
          "name": "stdout",
          "text": [
            "Probability of exactly 20 bulbs being defective: 0.051616192536641056\n"
          ]
        }
      ],
      "source": [
        "#A\n",
        "from scipy.stats import binom\n",
        "\n",
        "n = 500  # Total number of light bulbs\n",
        "p = 0.05  # Probability of a bulb being defective\n",
        "\n",
        "probability_20_defective = binom.pmf(20, n, p)\n",
        "print(f\"Probability of exactly 20 bulbs being defective: {probability_20_defective}\")\n"
      ]
    },
    {
      "cell_type": "code",
      "source": [
        "#B\n",
        "probability_at_least_10_defective = 1 - binom.cdf(9, n, p)\n",
        "print(f\"Probability of at least 10 bulbs being defective: {probability_at_least_10_defective}\")\n"
      ],
      "metadata": {
        "colab": {
          "base_uri": "https://localhost:8080/"
        },
        "id": "aELYC_Wszcjl",
        "outputId": "b6798ddd-410e-4329-bae9-da6ed88a6f34"
      },
      "execution_count": 3,
      "outputs": [
        {
          "output_type": "stream",
          "name": "stdout",
          "text": [
            "Probability of at least 10 bulbs being defective: 0.9998316463654902\n"
          ]
        }
      ]
    },
    {
      "cell_type": "code",
      "source": [
        "#C\n",
        "probability_at_most_15_defective = binom.cdf(15, n, p)\n",
        "print(f\"Probability of at most 15 bulbs being defective: {probability_at_most_15_defective}\")\n"
      ],
      "metadata": {
        "colab": {
          "base_uri": "https://localhost:8080/"
        },
        "id": "SfKOVp4ozePp",
        "outputId": "6a28b4dc-404f-487a-98bc-c4c6a11a7016"
      },
      "execution_count": 4,
      "outputs": [
        {
          "output_type": "stream",
          "name": "stdout",
          "text": [
            "Probability of at most 15 bulbs being defective: 0.01985837716300623\n"
          ]
        }
      ]
    },
    {
      "cell_type": "code",
      "source": [
        "#D\n",
        "expected_defective_bulbs = n * p\n",
        "print(f\"Expected number of defective bulbs in a batch of 500: {expected_defective_bulbs}\")\n"
      ],
      "metadata": {
        "colab": {
          "base_uri": "https://localhost:8080/"
        },
        "id": "VL8xA-YdziHC",
        "outputId": "3d8ec20c-a2e1-4e25-bf11-5d45b8ce0c85"
      },
      "execution_count": 5,
      "outputs": [
        {
          "output_type": "stream",
          "name": "stdout",
          "text": [
            "Expected number of defective bulbs in a batch of 500: 25.0\n"
          ]
        }
      ]
    },
    {
      "cell_type": "code",
      "source": [],
      "metadata": {
        "id": "cgP2yo43zmXf"
      },
      "execution_count": null,
      "outputs": []
    }
  ]
}