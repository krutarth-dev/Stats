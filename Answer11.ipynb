{
  "nbformat": 4,
  "nbformat_minor": 0,
  "metadata": {
    "colab": {
      "provenance": [],
      "authorship_tag": "ABX9TyOOzsVXQpOAE6gR2rBO1NJ9",
      "include_colab_link": true
    },
    "kernelspec": {
      "name": "python3",
      "display_name": "Python 3"
    },
    "language_info": {
      "name": "python"
    }
  },
  "cells": [
    {
      "cell_type": "markdown",
      "metadata": {
        "id": "view-in-github",
        "colab_type": "text"
      },
      "source": [
        "<a href=\"https://colab.research.google.com/github/krutarth-dev/Stats/blob/main/Answer11.ipynb\" target=\"_parent\"><img src=\"https://colab.research.google.com/assets/colab-badge.svg\" alt=\"Open In Colab\"/></a>"
      ]
    },
    {
      "cell_type": "code",
      "source": [
        "import pandas as pd\n",
        "from scipy.stats import f_oneway, bartlett\n",
        "\n",
        "# Load the data from CSV file into a DataFrame\n",
        "data = pd.read_csv(\"data.csv\")\n",
        "\n",
        "# Check whether the distribution of all the classes are the same or not (One-Way ANOVA)\n",
        "f_statistic, p_value = f_oneway(data['Blood Pressure Before(mmHg)'], data['Blood Pressure After(mmHg)'])\n",
        "print(\"One-Way ANOVA p-value:\", p_value)\n",
        "\n",
        "# Check for the equality of variance (Bartlett's test)\n",
        "bartlett_statistic, bartlett_p_value = bartlett(data['Blood Pressure Before(mmHg)'], data['Blood Pressure After(mmHg)'])\n",
        "print(\"Bartlett's test p-value:\", bartlett_p_value)\n",
        "\n",
        "# Compare the means of all the classes (t-test)\n",
        "t_statistic, t_p_value = ttest_ind(data['Blood Pressure Before(mmHg)'], data['Blood Pressure After(mmHg)'])\n",
        "print(\"t-test p-value:\", t_p_value)"
      ],
      "metadata": {
        "id": "e8wtML6F3epT"
      },
      "execution_count": null,
      "outputs": []
    }
  ]
}