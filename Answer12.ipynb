{
  "nbformat": 4,
  "nbformat_minor": 0,
  "metadata": {
    "colab": {
      "provenance": [],
      "authorship_tag": "ABX9TyMkfozWNk7rHPJPEdROn7ph",
      "include_colab_link": true
    },
    "kernelspec": {
      "name": "python3",
      "display_name": "Python 3"
    },
    "language_info": {
      "name": "python"
    }
  },
  "cells": [
    {
      "cell_type": "markdown",
      "metadata": {
        "id": "view-in-github",
        "colab_type": "text"
      },
      "source": [
        "<a href=\"https://colab.research.google.com/github/krutarth-dev/Stats/blob/main/Answer12.ipynb\" target=\"_parent\"><img src=\"https://colab.research.google.com/assets/colab-badge.svg\" alt=\"Open In Colab\"/></a>"
      ]
    },
    {
      "cell_type": "code",
      "execution_count": 2,
      "metadata": {
        "colab": {
          "base_uri": "https://localhost:8080/"
        },
        "id": "YY75rpxuz_s-",
        "outputId": "9395cab4-6c11-4192-faf2-c602bca16551"
      },
      "outputs": [
        {
          "output_type": "stream",
          "name": "stdout",
          "text": [
            "Fail to reject the null hypothesis\n",
            "There is no significant difference in the mean improvement scores between the two groups.\n"
          ]
        },
        {
          "output_type": "stream",
          "name": "stderr",
          "text": [
            "<ipython-input-2-8cf90d599c10>:14: RuntimeWarning: Precision loss occurred in moment calculation due to catastrophic cancellation. This occurs when the data are nearly identical. Results may be unreliable.\n",
            "  t_statistic, p_value = ttest_ind(a=mean_A, b=mean_B, equal_var=False)\n",
            "/usr/local/lib/python3.10/dist-packages/scipy/stats/_stats_py.py:1214: RuntimeWarning: divide by zero encountered in true_divide\n",
            "  var *= np.divide(n, n-ddof)  # to avoid error on division by zero\n",
            "/usr/local/lib/python3.10/dist-packages/scipy/stats/_stats_py.py:1214: RuntimeWarning: invalid value encountered in double_scalars\n",
            "  var *= np.divide(n, n-ddof)  # to avoid error on division by zero\n"
          ]
        }
      ],
      "source": [
        "from scipy.stats import ttest_ind\n",
        "\n",
        "# Data for Group A\n",
        "mean_A = 2.5\n",
        "std_A = 0.8\n",
        "n_A = 30\n",
        "\n",
        "# Data for Group B\n",
        "mean_B = 2.2\n",
        "std_B = 0.6\n",
        "n_B = 30\n",
        "\n",
        "# Calculate the t-statistic and p-value\n",
        "t_statistic, p_value = ttest_ind(a=mean_A, b=mean_B, equal_var=False)\n",
        "\n",
        "# Check if the p-value is less than the significance level (0.05)\n",
        "if p_value < 0.05:\n",
        "    print(\"Reject the null hypothesis\")\n",
        "    print(\"There is a significant difference in the mean improvement scores between the two groups.\")\n",
        "else:\n",
        "    print(\"Fail to reject the null hypothesis\")\n",
        "    print(\"There is no significant difference in the mean improvement scores between the two groups.\")\n"
      ]
    }
  ]
}