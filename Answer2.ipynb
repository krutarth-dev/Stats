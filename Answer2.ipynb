{
  "nbformat": 4,
  "nbformat_minor": 0,
  "metadata": {
    "colab": {
      "provenance": [],
      "authorship_tag": "ABX9TyMYAfTT0VDxidaksBNW/jVY",
      "include_colab_link": true
    },
    "kernelspec": {
      "name": "python3",
      "display_name": "Python 3"
    },
    "language_info": {
      "name": "python"
    }
  },
  "cells": [
    {
      "cell_type": "markdown",
      "metadata": {
        "id": "view-in-github",
        "colab_type": "text"
      },
      "source": [
        "<a href=\"https://colab.research.google.com/github/krutarth-dev/Stats/blob/main/Answer2.ipynb\" target=\"_parent\"><img src=\"https://colab.research.google.com/assets/colab-badge.svg\" alt=\"Open In Colab\"/></a>"
      ]
    },
    {
      "cell_type": "code",
      "execution_count": 2,
      "metadata": {
        "colab": {
          "base_uri": "https://localhost:8080/"
        },
        "id": "MOCLNLRfvi7r",
        "outputId": "d6430676-af6e-4a59-ac70-a1086a8da055"
      },
      "outputs": [
        {
          "output_type": "stream",
          "name": "stdout",
          "text": [
            "Percentage of individuals with heights between 160 cm and 180 cm: 68.26894921370858%\n"
          ]
        }
      ],
      "source": [
        "#A\n",
        "import scipy.stats as stats\n",
        "\n",
        "mean = 170\n",
        "std_dev = 10\n",
        "\n",
        "# Calculate the percentage using the CDF\n",
        "percentage = (stats.norm.cdf(180, mean, std_dev) - stats.norm.cdf(160, mean, std_dev)) * 100\n",
        "\n",
        "print(f\"Percentage of individuals with heights between 160 cm and 180 cm: {percentage}%\")\n"
      ]
    },
    {
      "cell_type": "code",
      "source": [
        "#B\n",
        "import scipy.stats as stats\n",
        "\n",
        "sample_size = 100\n",
        "sample_mean = mean\n",
        "sample_std_dev = std_dev / (sample_size ** 0.5)\n",
        "\n",
        "# Calculate the probability using the CDF\n",
        "probability = 1 - stats.norm.cdf(175, sample_mean, sample_std_dev)\n",
        "\n",
        "print(f\"Probability that the average height of 100 individuals is greater than 175 cm: {probability}\")\n"
      ],
      "metadata": {
        "colab": {
          "base_uri": "https://localhost:8080/"
        },
        "id": "KYW1_TjRvoe8",
        "outputId": "4e4a4504-bc21-4a39-ae0b-8799f4fdb2c6"
      },
      "execution_count": 3,
      "outputs": [
        {
          "output_type": "stream",
          "name": "stdout",
          "text": [
            "Probability that the average height of 100 individuals is greater than 175 cm: 2.866515719235352e-07\n"
          ]
        }
      ]
    },
    {
      "cell_type": "code",
      "source": [
        "#C\n",
        "height = 185\n",
        "\n",
        "# Calculate the z-score\n",
        "z_score = (height - mean) / std_dev\n",
        "\n",
        "print(f\"Z-score corresponding to a height of 185 cm: {z_score}\")\n"
      ],
      "metadata": {
        "colab": {
          "base_uri": "https://localhost:8080/"
        },
        "id": "tUq6pLZcvwjw",
        "outputId": "f56f936a-e2b7-42a0-f461-f2c98fc43a64"
      },
      "execution_count": 5,
      "outputs": [
        {
          "output_type": "stream",
          "name": "stdout",
          "text": [
            "Z-score corresponding to a height of 185 cm: 1.5\n"
          ]
        }
      ]
    },
    {
      "cell_type": "code",
      "source": [
        "#D\n",
        "threshold = stats.norm.ppf(0.05, mean, std_dev)\n",
        "\n",
        "print(f\"Approximate height corresponding to the 5% threshold: {threshold}\")\n"
      ],
      "metadata": {
        "colab": {
          "base_uri": "https://localhost:8080/"
        },
        "id": "yaLTxJ3lvyXi",
        "outputId": "a3077906-04b4-4e0a-c9cf-7e68a72e9731"
      },
      "execution_count": 6,
      "outputs": [
        {
          "output_type": "stream",
          "name": "stdout",
          "text": [
            "Approximate height corresponding to the 5% threshold: 153.55146373048527\n"
          ]
        }
      ]
    },
    {
      "cell_type": "code",
      "source": [
        "#E\n",
        "coefficient_of_variation = (std_dev / mean) * 100\n",
        "\n",
        "print(f\"Coefficient of variation (CV) for the dataset: {coefficient_of_variation}%\")\n"
      ],
      "metadata": {
        "colab": {
          "base_uri": "https://localhost:8080/"
        },
        "id": "62rV3mklv2Es",
        "outputId": "d4597e52-1950-4642-c5d3-700bb9a91f57"
      },
      "execution_count": 7,
      "outputs": [
        {
          "output_type": "stream",
          "name": "stdout",
          "text": [
            "Coefficient of variation (CV) for the dataset: 5.88235294117647%\n"
          ]
        }
      ]
    },
    {
      "cell_type": "code",
      "source": [
        "#F\n",
        "skewness = 0  # Assume the skewness to be zero for a normal distribution\n",
        "\n",
        "print(f\"Skewness of the dataset (assuming normal distribution): {skewness}\")\n"
      ],
      "metadata": {
        "colab": {
          "base_uri": "https://localhost:8080/"
        },
        "id": "sfzwoD4ov4C7",
        "outputId": "9e74a162-ba8e-474d-c311-9fbe656af951"
      },
      "execution_count": 8,
      "outputs": [
        {
          "output_type": "stream",
          "name": "stdout",
          "text": [
            "Skewness of the dataset (assuming normal distribution): 0\n"
          ]
        }
      ]
    },
    {
      "cell_type": "code",
      "source": [],
      "metadata": {
        "id": "V7Xft0QTwW4b"
      },
      "execution_count": null,
      "outputs": []
    }
  ]
}