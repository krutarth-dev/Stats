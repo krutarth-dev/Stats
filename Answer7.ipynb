{
  "nbformat": 4,
  "nbformat_minor": 0,
  "metadata": {
    "colab": {
      "provenance": [],
      "authorship_tag": "ABX9TyM4OcNc8l+YX8hms9KbNnLc",
      "include_colab_link": true
    },
    "kernelspec": {
      "name": "python3",
      "display_name": "Python 3"
    },
    "language_info": {
      "name": "python"
    }
  },
  "cells": [
    {
      "cell_type": "markdown",
      "metadata": {
        "id": "view-in-github",
        "colab_type": "text"
      },
      "source": [
        "<a href=\"https://colab.research.google.com/github/krutarth-dev/Stats/blob/main/Answer7.ipynb\" target=\"_parent\"><img src=\"https://colab.research.google.com/assets/colab-badge.svg\" alt=\"Open In Colab\"/></a>"
      ]
    },
    {
      "cell_type": "code",
      "execution_count": 1,
      "metadata": {
        "colab": {
          "base_uri": "https://localhost:8080/"
        },
        "id": "8b7mlw3vwuzN",
        "outputId": "29c5959d-8145-4c40-bdc5-f5f7f6954179"
      },
      "outputs": [
        {
          "output_type": "stream",
          "name": "stdout",
          "text": [
            "Variance of Y: 8\n"
          ]
        }
      ],
      "source": [
        "#A\n",
        "variance_X = 4\n",
        "variance_Y = 2 * variance_X  # Since the coefficient of Y is 2 in the regression equation\n",
        "print(f\"Variance of Y: {variance_Y}\")\n"
      ]
    },
    {
      "cell_type": "code",
      "source": [
        "#B\n",
        "# Calculate the correlation coefficient (slope of the regression line)\n",
        "slope_X = 2\n",
        "slope_Y = 1 / slope_X\n",
        "\n",
        "# Calculate the coefficient of determination\n",
        "R_squared = (slope_Y ** 2) * variance_X / variance_Y\n",
        "print(f\"Coefficient of determination (R-squared): {R_squared}\")\n"
      ],
      "metadata": {
        "colab": {
          "base_uri": "https://localhost:8080/"
        },
        "id": "7yrU6VTYyT4N",
        "outputId": "1ba20019-0dae-44aa-d54c-3ef8389405ef"
      },
      "execution_count": 2,
      "outputs": [
        {
          "output_type": "stream",
          "name": "stdout",
          "text": [
            "Coefficient of determination (R-squared): 0.125\n"
          ]
        }
      ]
    },
    {
      "cell_type": "code",
      "source": [
        "#C\n",
        "# Standard error of estimate of X on Y\n",
        "standard_error_X_on_Y = (variance_X * (1 - R_squared)) ** 0.5\n",
        "\n",
        "# Standard error of estimate of Y on X\n",
        "standard_error_Y_on_X = (variance_Y * (1 - R_squared)) ** 0.5\n",
        "\n",
        "print(f\"Standard error of estimate of X on Y: {standard_error_X_on_Y}\")\n",
        "print(f\"Standard error of estimate of Y on X: {standard_error_Y_on_X}\")\n"
      ],
      "metadata": {
        "colab": {
          "base_uri": "https://localhost:8080/"
        },
        "id": "Bh-UF4eSyWNJ",
        "outputId": "fb5eaa46-0408-4d85-bbdf-2d97bf217c83"
      },
      "execution_count": 3,
      "outputs": [
        {
          "output_type": "stream",
          "name": "stdout",
          "text": [
            "Standard error of estimate of X on Y: 1.8708286933869707\n",
            "Standard error of estimate of Y on X: 2.6457513110645907\n"
          ]
        }
      ]
    }
  ]
}